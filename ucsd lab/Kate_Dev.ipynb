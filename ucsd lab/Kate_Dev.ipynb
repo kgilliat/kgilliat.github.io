{
 "cells": [
  {
   "cell_type": "code",
   "execution_count": 3,
   "metadata": {},
   "outputs": [],
   "source": [
    "import requests\n",
    "from bs4 import BeautifulSoup\n",
    "import pandas as pd"
   ]
  },
  {
   "cell_type": "code",
   "execution_count": 4,
   "metadata": {},
   "outputs": [],
   "source": [
    "#from athletic net inspect element\n",
    "#this website: https://www.athletic.net/CrossCountry/rankings/list/63892/m/5000\n",
    "paid_table_logic = {\n",
    "    'year_codes' : {'2024': '73596','2023': '68585','2022': '63892','2010': '11527'},\n",
    "    'sports' : {'CrossCountry'},\n",
    "    'gender' : {'m', 'f'},\n",
    "    'distance' : {'5000'}, #tons of legnths.\n",
    "    'high_school_only' : 'restrict=true'\n",
    "\n",
    "}\n"
   ]
  },
  {
   "cell_type": "code",
   "execution_count": 5,
   "metadata": {},
   "outputs": [],
   "source": [
    "team_url_parameters = {\n",
    "    'sport': ['cross-country'],\n",
    "    'country': ['usa'],\n",
    "    'level': ['club', 'college', 'high-school', 'middle-school'],\n",
    "    'state': ['alabama', 'alaska', 'arizona', 'arkansas', 'california', 'colorado', \n",
    "               'connecticut', 'delaware', 'florida', 'georgia', 'hawaii', 'idaho',\n",
    "               'illinois', 'indiana', 'iowa', 'kansas', 'kentucky', 'louisiana',\n",
    "               'maine', 'maryland', 'massachusetts', 'michigan', 'minnesota',\n",
    "               'mississippi', 'missouri', 'montana', 'nebraska', 'nevada',\n",
    "               'new-hampshire', 'new-jersey', 'new-mexico', 'new-york',\n",
    "               'north-carolina', 'north-dakota', 'ohio', 'oklahoma', 'oregon',\n",
    "               'pennsylvania', 'rhode-island', 'south-carolina', 'south-dakota',\n",
    "               'tennessee', 'texas', 'utah', 'vermont', 'virginia', 'washington',\n",
    "               'west-virginia', 'wisconsin', 'wyoming'],\n",
    "    'year': list(range(2005, 2025))\n",
    "}"
   ]
  },
  {
   "cell_type": "code",
   "execution_count": 6,
   "metadata": {},
   "outputs": [],
   "source": [
    "def construct_state_urls(team_url_parameters, select_params=None):\n",
    "    base_url = \"https://www.athletic.net\"\n",
    "    urls = []\n",
    "\n",
    "    # Helper function to get the selected values or the entire list\n",
    "    def get_values(param, select_params):\n",
    "        if select_params and param in select_params:\n",
    "            selected = select_params[param]\n",
    "            if isinstance(selected, list):\n",
    "                return selected\n",
    "            return [selected]\n",
    "        return team_url_parameters[param]\n",
    "\n",
    "    countries = get_values(\"country\", select_params)\n",
    "    sports = get_values(\"sport\", select_params)\n",
    "    levels = get_values(\"level\", select_params)\n",
    "    states = get_values(\"state\", select_params)\n",
    "    years = get_values(\"year\", select_params)\n",
    "\n",
    "    for country in countries:\n",
    "        for sport in sports:\n",
    "            for level in levels:\n",
    "                for state in states:\n",
    "                    for year in years:\n",
    "                        url = f\"{base_url}/{sport}/{country}/{level}/{state}/{year}\"\n",
    "                        urls.append(url)\n",
    "\n",
    "    return urls"
   ]
  },
  {
   "cell_type": "code",
   "execution_count": 7,
   "metadata": {},
   "outputs": [],
   "source": [
    "kurtis_params = {'year': [2011], \n",
    "                 'state': 'oregon',\n",
    "                 'level': 'high-school',\n",
    "                 'country': 'usa',\n",
    "                 'sport': 'cross-country'}\n",
    "state_year_urls = construct_state_urls(team_url_parameters, select_params= kurtis_params)"
   ]
  },
  {
   "cell_type": "code",
   "execution_count": 8,
   "metadata": {},
   "outputs": [
    {
     "name": "stdout",
     "output_type": "stream",
     "text": [
      "URL: https://www.athletic.net/cross-country/usa/high-school/oregon/2011 - Status Code: 200\n",
      "b'\\r\\n\\r\\n<!DOCTYPE html>\\r\\n<html id=\"html\" lang=\"en\" xmlns=\"http://www.w3.org/1999/xhtml\">\\r\\n\\r\\n<head id=\"Head1\">\\r\\n    <base href=\"/\" />\\r\\n    <script type=\\'text/javascript\\'>\\r\\n        var googletag = googletag || {};\\r\\n        googletag.cmd = googletag.cmd || [];\\r\\n\\r\\n        var anetadslots = anetadslots || [];\\r\\n    </script>\\r\\n\\r\\n    <!-- Quantcast Tag, part 1 - part 2 in footer-->\\r\\n    <script type=\"text/javascript\">\\r\\n        var _qevents = _qevents || []; (function () { var a = document.createElement(\"script\"); a.src = (\"https:\" == document.location.protocol ? \"https://secure\" : \"http://edge\") + \".quantserve.com/quant.js\"; a.async = !0; a.type = \"text/javascript\"; var b = document.getElementsByTagName(\"script\")[0]; b.parentNode.insertBefore(a, b) })();\\r\\n    </script>\\r\\n\\r\\n    <title>\\r\\n\\tTrack & Field, Cross Country Results, Statistics\\r\\n</title><meta name=\"application-name\" content=\"Athletic.net\" /><link rel=\"icon\" type=\"image/x-icon\" href=\"/favicon.png\" /><meta name=\"viewport\" content=\"width=device-width, initial-scale=1\" /><meta http-equiv=\"X-UA-Compatible\" content=\"IE=edge,chrome=1\" /><meta property=\"fb:app_id\" content=\"169507956425670\" /><meta property=\"og:site_name\" content=\"Athletic.net\" />\\r\\n    <meta property=\"og:url\" content=\\'https://www.athletic.net/cross-country/usa/high-school/oregon/2011\\' />\\r\\n    <meta name=\"twitter:site\" content=\"@AthleticNet\" /><link id=\"Link1\" rel=\"search\" type=\"application/opensearchdescription+xml\" href=\"../../../../opensearch.xml\" title=\"Athletic.net Search\" />\\r\\n        <meta id=\"ogImage\" property=\"og:image\" content=\"https://www.athletic.net/images/Logo/AthleticNet-OG-Image_1200x630.jpg\" />\\r\\n        <meta property=\"og:type\" content=\"website\" />\\r\\n        <meta property=\"og:title\" content=\"Track & Field and Cross Country Statistics\" />\\r\\n        <meta property=\"og:description\" content=\"Rankings for middle school, high school, and college athletes. Compare yourself against athletes in your district, your state, or the nation.\" />\\r\\n\\r\\n        <meta name=\"twitter:card\" content=\"summary\" />\\r\\n    \\r\\n    <script type=\"text/javascript\">var anetBSVersion = \\'Bootstrap5\\';</script>\\r\\n    <link href=\"https://stage.athletic.net/css/Bootstrap5-v-7Cq7JYk3aShinp25EwCyj18I5DhCSPLl09A8_CHl6je01\" rel=\"stylesheet\"/>\\r\\n<link rel=\"stylesheet\" href=\"https://angular.athletic.net/fontawesome/v5.15.4/css/all.min.css\" crossorigin=\"anonymous\" />\\r\\n    \\r\\n\\r\\n    <script type=\"text/javascript\">\\r\\n        var anetSiteAppParams = {\"footerRecentVideos\":true,\"footerShowSignup\":true,\"app\":\"net\",\"isProduction\":true,\"siteVersion\":\"1.1.9134.17827\",\"uid\":0};\\r\\n        var anetAdSetup = {\"enabled\":true};\\r\\n        var anetAdTarget = {\"Page\":\"NotSet\"};\\r\\n        var anetPrebid = {\"teadsBox\":false};\\r\\n    </script>\\r\\n\\r\\n    \\r\\n\\r\\n    <script src=\"https://cdnjs.cloudflare.com/ajax/libs/moment.js/2.29.1/moment.min.js\" integrity=\"sha512-qTXRIMyZIFb8iQcfjXWCO8+M5Tbc38Qi5WzdPOYZHIlZpzBHG3L3by84BBBOiRGiEb7KKtAOAs5qYdUiZiQNNQ==\" crossorigin=\"anonymous\" referrerpolicy=\"no-referrer\"></script>\\r\\n\\r\\n    <script src=\"https://js.stripe.com/v3/\"></script>\\r\\n\\r\\n\\r\\n    \\r\\n    </head>\\r\\n\\r\\n\\r\\n<body id=\"body\">\\r\\n    <web-athletic-header></web-athletic-header>\\r\\n\\r\\n    <main id=\"anetMain\" class=\"d-flex flex-column\">\\r\\n        \\r\\n\\r\\n        \\r\\n\\r\\n        <div class=\"ad-takeover visible-lg hidden-md-down d-none d-lg-block\">\\r\\n            <div class=\"container\">\\r\\n                <div id=\\'bgTakeoverLeft\\'></div>\\r\\n                <div id=\\'bgTakeoverRight\\'></div>\\r\\n            </div>\\r\\n        </div>\\r\\n\\r\\n        \\r\\n\\r\\n        \\r\\n        <anet-site-app></anet-site-app>\\r\\n        \\r\\n    </main>\\r\\n\\r\\n    <anet-athletic-footer></anet-athletic-footer>\\r\\n\\r\\n    <!-- Global site tag (gtag.js) - Google Analytics -->\\r\\n    <script async src=\"https://www.googletagmanager.com/gtag/js?id=UA-297644-1\"></script>\\r\\n    <script>\\r\\n        window.dataLayer = window.dataLayer || [];\\r\\n        function gtag() { dataLayer.push(arguments); }\\r\\n        gtag(\\'js\\', new Date());\\r\\n\\r\\n        gtag(\\'config\\', \\'UA-297644-1\\', {\\r\\n            \\'dimension1\\':\\'General\\'\\r\\n             \\r\\n        });\\r\\n\\r\\n      \\r\\n    </script>\\r\\n    <!-- End Google Analytics Tag -->\\r\\n\\r\\n    <!-- Begin comScore Tag -->\\r\\n    <script>\\r\\n        var _comscore = _comscore || [];\\r\\n        _comscore.push({ c1: \"2\", c2: \"22801758\" });\\r\\n        (function () {\\r\\n            var s = document.createElement(\"script\"), el = document.getElementsByTagName(\"script\")[0]; s.async = true;\\r\\n            s.src = (document.location.protocol == \"https:\" ? \"https://sb\" : \"http://b\") + \".scorecardresearch.com/beacon.js\";\\r\\n            el.parentNode.insertBefore(s, el);\\r\\n        })();\\r\\n    </script>\\r\\n    <noscript>\\r\\n        <img src=\"http://b.scorecardresearch.com/p?c1=2&c2=22801758&cv=2.0&cj=1\" />\\r\\n    </noscript>\\r\\n    <!-- End comScore Tag -->\\r\\n\\r\\n    \\r\\n\\r\\n    <!-- Begin Quantcast Tag, part 2 - part one in header -->\\r\\n    <script type=\"text/javascript\">\\r\\n        _qevents.push([{ qacct: \"p-357yONfRnfd4g\" }, { qacct: \"p-56TeoNo_KrtZ6\" }]);\\r\\n    </script>\\r\\n    <noscript>\\r\\n        <div style=\"display: none;\">\\r\\n            <img src=\"//pixel.quantserve.com/pixel/p-357yONfRnfd4g.gif\" border=\"0\" height=\"1\" width=\"1\" alt=\"Quantcast\" />\\r\\n            <img src=\"//pixel.quantserve.com/pixel/p-56TeoNo_KrtZ6.gif\" border=\"0\" height=\"1\" width=\"1\" alt=\"Quantcast\" />\\r\\n        </div>\\r\\n    </noscript>\\r\\n    <!-- End Quantcast Tag, part 2 -->\\r\\n\\r\\n    \\r\\n    \\r\\n\\r\\n    \\r\\n    \\r\\n\\r\\n    <link href=\\'https://angular.athletic.net/app/site-app/styles.54431ea501bd24e6.css\\' rel=\\'stylesheet\\'/>\\n<script src=\\'https://angular.athletic.net/app/site-app/runtime.190fa5efcab19b99.js\\' type=\\'module\\'></script>\\n<script src=\\'https://angular.athletic.net/app/site-app/polyfills.47d11cfe57f03fa3.js\\' type=\\'module\\'></script>\\n<script src=\\'https://angular.athletic.net/app/site-app/vendor.89f948514d8230b8.js\\' type=\\'module\\'></script>\\n<script src=\\'https://angular.athletic.net/app/site-app/main.f25db1f3d79f9a2b.js\\' type=\\'module\\'></script>\\r\\n</body>\\r\\n\\r\\n</html>\\r\\n'\n"
     ]
    },
    {
     "name": "stderr",
     "output_type": "stream",
     "text": [
      "C:\\Users\\katelorr\\AppData\\Roaming\\Python\\Python310\\site-packages\\urllib3\\connectionpool.py:1099: InsecureRequestWarning: Unverified HTTPS request is being made to host 'www.athletic.net'. Adding certificate verification is strongly advised. See: https://urllib3.readthedocs.io/en/latest/advanced-usage.html#tls-warnings\n",
      "  warnings.warn(\n"
     ]
    }
   ],
   "source": [
    "# Generate GET requests to each URL\n",
    "responses = []\n",
    "for url in state_year_urls:\n",
    "    response = requests.get(url, verify=False)\n",
    "    responses.append(response)\n",
    "    print(f\"URL: {url} - Status Code: {response.status_code}\")\n",
    "\n",
    "# Optionally, process the responses\n",
    "for response in responses:\n",
    "    if response.status_code == 200:\n",
    "        # Process the response content\n",
    "        print(response.content)\n",
    "    else:\n",
    "        print(f\"Failed to retrieve {response.url}\")"
   ]
  },
  {
   "cell_type": "code",
   "execution_count": 9,
   "metadata": {},
   "outputs": [
    {
     "name": "stderr",
     "output_type": "stream",
     "text": [
      "C:\\Users\\katelorr\\AppData\\Roaming\\Python\\Python310\\site-packages\\urllib3\\connectionpool.py:1099: InsecureRequestWarning: Unverified HTTPS request is being made to host 'www.athletic.net'. Adding certificate verification is strongly advised. See: https://urllib3.readthedocs.io/en/latest/advanced-usage.html#tls-warnings\n",
      "  warnings.warn(\n"
     ]
    },
    {
     "name": "stdout",
     "output_type": "stream",
     "text": [
      "URL: https://www.athletic.net/cross-country/usa/high-school/oregon/2011 - Status Code: 200\n",
      "                                                 url team_link\n",
      "0  https://www.athletic.net/cross-country/usa/hig...      None\n"
     ]
    }
   ],
   "source": [
    "# Generate GET requests to each URL and find the href with class 'team-link me-1'\n",
    "data = []\n",
    "for url in state_year_urls:\n",
    "    response = requests.get(url, verify=False)\n",
    "    print(f\"URL: {url} - Status Code: {response.status_code}\")\n",
    "\n",
    "    if response.status_code == 200:\n",
    "        soup = BeautifulSoup(response.content, 'html.parser')\n",
    "        team_link = soup.find('a', class_='team-link me-1')\n",
    "        if team_link and 'href' in team_link.attrs:\n",
    "            href = team_link['href']\n",
    "            if href.startswith(\"/team/\") and \"/cross-country\" in href:\n",
    "                data.append({\"url\": url, \"team_link\": href})\n",
    "        else:\n",
    "            data.append({\"url\": url, \"team_link\": None})\n",
    "    else:\n",
    "        data.append({\"url\": url, \"team_link\": None})\n",
    "\n",
    "# Create a DataFrame from the collected data\n",
    "df = pd.DataFrame(data)\n",
    "print(df)"
   ]
  },
  {
   "cell_type": "code",
   "execution_count": 11,
   "metadata": {},
   "outputs": [],
   "source": [
    "# Save response content to a text file\n",
    "\n",
    "if response.status_code == 200:\n",
    "    with open(f'response_2011_oregon.txt', 'w', encoding='utf-8') as file:\n",
    "        file.write(response.text)\n",
    "else:\n",
    "    print(f\"Failed to retrieve {response.url}\")"
   ]
  },
  {
   "cell_type": "code",
   "execution_count": null,
   "metadata": {},
   "outputs": [],
   "source": []
  }
 ],
 "metadata": {
  "kernelspec": {
   "display_name": "Python 3",
   "language": "python",
   "name": "python3"
  },
  "language_info": {
   "codemirror_mode": {
    "name": "ipython",
    "version": 3
   },
   "file_extension": ".py",
   "mimetype": "text/x-python",
   "name": "python",
   "nbconvert_exporter": "python",
   "pygments_lexer": "ipython3",
   "version": "3.10.11"
  }
 },
 "nbformat": 4,
 "nbformat_minor": 2
}
